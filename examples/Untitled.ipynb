{
 "cells": [
  {
   "cell_type": "code",
   "execution_count": 1,
   "id": "b6ae0ed6-2885-4d89-8e92-3aef4dbb9d2f",
   "metadata": {},
   "outputs": [],
   "source": [
    "from igv_jupyterlab import IGV"
   ]
  },
  {
   "cell_type": "code",
   "execution_count": 2,
   "id": "81eb0fef-ea8d-455c-b2bc-65934ae7d9a9",
   "metadata": {},
   "outputs": [
    {
     "data": {
      "application/vnd.jupyter.widget-view+json": {
       "model_id": "ac7199d418354cbe829b84efb4242f49",
       "version_major": 2,
       "version_minor": 0
      },
      "text/plain": [
       "IGV(id='igv_7928345', initialConfig={'id': 'igv_7928345', 'locus': '', 'genome': 'hg19'})"
      ]
     },
     "metadata": {},
     "output_type": "display_data"
    }
   ],
   "source": [
    "IGV(genome=\"hg19\")"
   ]
  },
  {
   "cell_type": "code",
   "execution_count": 3,
   "id": "b7a0445f-f6a8-4ac3-824b-0cfa08c2bb84",
   "metadata": {},
   "outputs": [],
   "source": [
    "genome = IGV.create_genome(\n",
    "    name=\"Human (GRCh38/hg38)\",\n",
    "    fasta_url=\"https://s3.amazonaws.com/igv.broadinstitute.org/genomes/seq/hg38/hg38.fa\",\n",
    "    index_url=\"https://s3.amazonaws.com/igv.broadinstitute.org/genomes/seq/hg38/hg38.fa.fai\",\n",
    "    cytoband_url=\"https://s3.amazonaws.com/igv.broadinstitute.org/annotations/hg38/cytoBandIdeo.txt\",\n",
    ")"
   ]
  },
  {
   "cell_type": "code",
   "execution_count": 4,
   "id": "075be073-9a8f-40e0-a803-f781ff6ac2f2",
   "metadata": {},
   "outputs": [
    {
     "data": {
      "application/vnd.jupyter.widget-view+json": {
       "model_id": "e4aa82ee5c3a4c1d9afe13d8adae2d86",
       "version_major": 2,
       "version_minor": 0
      },
      "text/plain": [
       "IGV(id='igv_4912904', initialConfig={'id': 'igv_4912904', 'locus': '', 'reference': {'name': 'Human (GRCh38/hg…"
      ]
     },
     "metadata": {},
     "output_type": "display_data"
    }
   ],
   "source": [
    "igv = IGV(genome=genome)\n",
    "\n",
    "display(igv)"
   ]
  },
  {
   "cell_type": "code",
   "execution_count": 5,
   "id": "6bde5057-372f-46c2-a544-d14a823b38cd",
   "metadata": {},
   "outputs": [],
   "source": [
    "igv.zoom_in()"
   ]
  },
  {
   "cell_type": "code",
   "execution_count": null,
   "id": "541b222e-79e9-4d10-9100-d04755e4e26b",
   "metadata": {},
   "outputs": [],
   "source": []
  },
  {
   "cell_type": "code",
   "execution_count": null,
   "id": "db72c8bf-a380-46ac-8794-afac55e5da34",
   "metadata": {},
   "outputs": [],
   "source": [
    "m.show('cutadapt', ['SRR3192396_1', 'SRR3192401_2',  'SRR3192398_2', 'MethylC-Seq_mm_fc_2wk_SRR921695_1', 'MethylC-Seq_mm_fc_2wk_SRR921696_1'])"
   ]
  },
  {
   "cell_type": "code",
   "execution_count": null,
   "id": "92a0161c-157c-426f-85bb-02fc3d69a7df",
   "metadata": {},
   "outputs": [],
   "source": []
  }
 ],
 "metadata": {
  "kernelspec": {
   "display_name": "Python 3 (ipykernel)",
   "language": "python",
   "name": "python3"
  },
  "language_info": {
   "codemirror_mode": {
    "name": "ipython",
    "version": 3
   },
   "file_extension": ".py",
   "mimetype": "text/x-python",
   "name": "python",
   "nbconvert_exporter": "python",
   "pygments_lexer": "ipython3",
   "version": "3.9.7"
  }
 },
 "nbformat": 4,
 "nbformat_minor": 5
}
